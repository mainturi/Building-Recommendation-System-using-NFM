{
 "cells": [
  {
   "cell_type": "markdown",
   "metadata": {},
   "source": [
    "# Identifying Articles with Similar topics by NFM  (Building Recommandation System)."
   ]
  },
  {
   "cell_type": "markdown",
   "metadata": {},
   "source": [
    "About this file\n",
    "Inshorts is a news service that provides short summaries of news from around the web. \n",
    "This dataset contains headlines and summary of news items along with its source.\n",
    "URL for downloading the Dataset: https://www.kaggle.com/shashichander009/inshorts-news-data."
   ]
  },
  {
   "cell_type": "code",
   "execution_count": 1,
   "metadata": {},
   "outputs": [],
   "source": [
    "##Import packages and File and remove Headlines that are duplicates.\n",
    "\n",
    "import pandas as pd\n",
    "df = pd.read_excel('Desktop\\Inshorts Cleaned Data.xlsx', sheet_name='Sheet1')\n",
    "df.head()\n",
    "df.drop_duplicates(subset='Headline', inplace=True)\n",
    "Labels =  df['Headline']#df.News.str.split(None,2).str.get(0)\n",
    "News = df['Short'].tolist()\n"
   ]
  },
  {
   "cell_type": "code",
   "execution_count": 2,
   "metadata": {},
   "outputs": [],
   "source": [
    "##Converting the text features to numeric array by Tfidf (Other methods include CountVectorizer)\n",
    "from sklearn.feature_extraction.text import TfidfVectorizer\n",
    "\n",
    "tfidf = TfidfVectorizer(decode_error='ignore', sublinear_tf=True, min_df=2, norm='l2', ngram_range=(1, 3), stop_words='english', max_features=1000)\n",
    "\n",
    "features = tfidf.fit_transform(News).toarray()\n"
   ]
  },
  {
   "cell_type": "code",
   "execution_count": 3,
   "metadata": {},
   "outputs": [
    {
     "name": "stdout",
     "output_type": "stream",
     "text": [
      "[[0.         0.         0.         ... 0.         0.         0.        ]\n",
      " [0.10687215 0.         0.         ... 0.0140723  0.01012493 0.        ]\n",
      " [0.         0.01775362 0.         ... 0.         0.02268941 0.        ]\n",
      " ...\n",
      " [0.3234007  0.         0.90626889 ... 0.         0.         0.        ]\n",
      " [0.         0.         0.         ... 0.62417704 0.00349609 0.        ]\n",
      " [0.01794262 0.         0.         ... 0.34671443 0.         0.        ]]\n",
      "(54940L, 20L)\n"
     ]
    }
   ],
   "source": [
    "###Building Piple line for Features extraction using NFM \n",
    "\n",
    "# Perform the necessary imports\n",
    "from sklearn.decomposition import NMF\n",
    "from sklearn.preprocessing import MaxAbsScaler, Normalizer\n",
    "from sklearn.pipeline import make_pipeline\n",
    "\n",
    "# Create a MaxAbsScaler: scaler\n",
    "scaler = MaxAbsScaler()\n",
    "\n",
    "# Create an NMF model: nmf\n",
    "nmf = NMF(n_components=20)\n",
    "\n",
    "# Create a Normalizer: normalizer\n",
    "normalizer = Normalizer()\n",
    "\n",
    "# Create a pipeline: pipeline\n",
    "pipeline = make_pipeline(scaler, nmf, normalizer)\n",
    "\n",
    "# Apply fit_transform to artists: norm_features\n",
    "norm_features = pipeline.fit_transform(features)\n",
    "\n",
    "print(norm_features)\n",
    "print(norm_features.shape)"
   ]
  },
  {
   "cell_type": "code",
   "execution_count": 9,
   "metadata": {},
   "outputs": [
    {
     "name": "stdout",
     "output_type": "stream",
     "text": [
      "Headline\n",
      "Govt dismisses reports of carving out larger Nagaland state        1.000000\n",
      "J&amp;K teachers become &#39;chowkidars&#39; to protect schools    0.996355\n",
      "Maha to set up anti-terrorism school for cops                      0.992106\n",
      "Protests erupt in Kashmir after student goes missing               0.991716\n",
      "Turkey says 34 IS militants killed in Syria                        0.991190\n",
      "dtype: float64\n"
     ]
    }
   ],
   "source": [
    "\n",
    "# Create a DataFrame: df\n",
    "dhf = pd.DataFrame(norm_features, index=Labels)\n",
    "\n",
    "# Select the row of the desired Headline: article\n",
    "article = dhf.loc['Govt dismisses reports of carving out larger Nagaland state']\n",
    "\n",
    "# Compute the dot products: similarities\n",
    "similarities = dhf.dot(article)\n",
    "\n",
    "# Display those with the largest cosine similarity\n",
    "print(similarities.nlargest())\n"
   ]
  }
 ],
 "metadata": {
  "kernelspec": {
   "display_name": "Python 2",
   "language": "python",
   "name": "python2"
  },
  "language_info": {
   "codemirror_mode": {
    "name": "ipython",
    "version": 2
   },
   "file_extension": ".py",
   "mimetype": "text/x-python",
   "name": "python",
   "nbconvert_exporter": "python",
   "pygments_lexer": "ipython2",
   "version": "2.7.15"
  }
 },
 "nbformat": 4,
 "nbformat_minor": 2
}
